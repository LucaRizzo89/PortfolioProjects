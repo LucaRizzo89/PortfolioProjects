{
 "cells": [
  {
   "cell_type": "markdown",
   "id": "0d4caca0",
   "metadata": {},
   "source": [
    "# Portfolio Project - Movie Industry Dataset - Correlations"
   ]
  },
  {
   "cell_type": "markdown",
   "id": "a14d373a",
   "metadata": {},
   "source": [
    "In this project we will try to find correlations between the variables stored in this dataset and the 'gross' column, which corresponds to the Gross Revenue generated from a movie. We will start by importing some python libraries."
   ]
  },
  {
   "cell_type": "code",
   "execution_count": 2,
   "id": "3c08405a",
   "metadata": {},
   "outputs": [],
   "source": [
    "import pandas as pd                     \n",
    "import seaborn as sns\n",
    "import matplotlib\n",
    "import matplotlib.pyplot as plt\n",
    "import numpy as np\n",
    "plt.style.use('ggplot')                #adjusting plots configuration\n",
    "from matplotlib.pyplot import figure\n",
    "%matplotlib inline\n",
    "matplotlib.rcParams['figure.figsize'] = (12,8) "
   ]
  },
  {
   "cell_type": "code",
   "execution_count": 3,
   "id": "3bb29499",
   "metadata": {},
   "outputs": [],
   "source": [
    "df = pd.read_csv(r'C:\\Users\\LuKe\\Jupyter projects\\Luca - Portfolio\\movies.csv') #importing the dataset"
   ]
  },
  {
   "cell_type": "markdown",
   "id": "bce5491b",
   "metadata": {},
   "source": [
    "## Preliminar data cleaning"
   ]
  },
  {
   "cell_type": "markdown",
   "id": "2901238e",
   "metadata": {},
   "source": [
    "Before looking into correlations we will have a look at the columns in the dataset, checking if they have the correct datatype and check whether NULL values are present and if something has to be changed to facilitate the analysis."
   ]
  },
  {
   "cell_type": "code",
   "execution_count": 4,
   "id": "cd633359",
   "metadata": {},
   "outputs": [
    {
     "data": {
      "text/html": [
       "<div>\n",
       "<style scoped>\n",
       "    .dataframe tbody tr th:only-of-type {\n",
       "        vertical-align: middle;\n",
       "    }\n",
       "\n",
       "    .dataframe tbody tr th {\n",
       "        vertical-align: top;\n",
       "    }\n",
       "\n",
       "    .dataframe thead th {\n",
       "        text-align: right;\n",
       "    }\n",
       "</style>\n",
       "<table border=\"1\" class=\"dataframe\">\n",
       "  <thead>\n",
       "    <tr style=\"text-align: right;\">\n",
       "      <th></th>\n",
       "      <th>budget</th>\n",
       "      <th>company</th>\n",
       "      <th>country</th>\n",
       "      <th>director</th>\n",
       "      <th>genre</th>\n",
       "      <th>gross</th>\n",
       "      <th>name</th>\n",
       "      <th>rating</th>\n",
       "      <th>released</th>\n",
       "      <th>runtime</th>\n",
       "      <th>score</th>\n",
       "      <th>star</th>\n",
       "      <th>votes</th>\n",
       "      <th>writer</th>\n",
       "      <th>year</th>\n",
       "    </tr>\n",
       "  </thead>\n",
       "  <tbody>\n",
       "    <tr>\n",
       "      <th>0</th>\n",
       "      <td>8000000.0</td>\n",
       "      <td>Columbia Pictures Corporation</td>\n",
       "      <td>USA</td>\n",
       "      <td>Rob Reiner</td>\n",
       "      <td>Adventure</td>\n",
       "      <td>52287414.0</td>\n",
       "      <td>Stand by Me</td>\n",
       "      <td>R</td>\n",
       "      <td>1986-08-22</td>\n",
       "      <td>89</td>\n",
       "      <td>8.1</td>\n",
       "      <td>Wil Wheaton</td>\n",
       "      <td>299174</td>\n",
       "      <td>Stephen King</td>\n",
       "      <td>1986</td>\n",
       "    </tr>\n",
       "    <tr>\n",
       "      <th>1</th>\n",
       "      <td>6000000.0</td>\n",
       "      <td>Paramount Pictures</td>\n",
       "      <td>USA</td>\n",
       "      <td>John Hughes</td>\n",
       "      <td>Comedy</td>\n",
       "      <td>70136369.0</td>\n",
       "      <td>Ferris Bueller's Day Off</td>\n",
       "      <td>PG-13</td>\n",
       "      <td>1986-06-11</td>\n",
       "      <td>103</td>\n",
       "      <td>7.8</td>\n",
       "      <td>Matthew Broderick</td>\n",
       "      <td>264740</td>\n",
       "      <td>John Hughes</td>\n",
       "      <td>1986</td>\n",
       "    </tr>\n",
       "    <tr>\n",
       "      <th>2</th>\n",
       "      <td>15000000.0</td>\n",
       "      <td>Paramount Pictures</td>\n",
       "      <td>USA</td>\n",
       "      <td>Tony Scott</td>\n",
       "      <td>Action</td>\n",
       "      <td>179800601.0</td>\n",
       "      <td>Top Gun</td>\n",
       "      <td>PG</td>\n",
       "      <td>1986-05-16</td>\n",
       "      <td>110</td>\n",
       "      <td>6.9</td>\n",
       "      <td>Tom Cruise</td>\n",
       "      <td>236909</td>\n",
       "      <td>Jim Cash</td>\n",
       "      <td>1986</td>\n",
       "    </tr>\n",
       "    <tr>\n",
       "      <th>3</th>\n",
       "      <td>18500000.0</td>\n",
       "      <td>Twentieth Century Fox Film Corporation</td>\n",
       "      <td>USA</td>\n",
       "      <td>James Cameron</td>\n",
       "      <td>Action</td>\n",
       "      <td>85160248.0</td>\n",
       "      <td>Aliens</td>\n",
       "      <td>R</td>\n",
       "      <td>1986-07-18</td>\n",
       "      <td>137</td>\n",
       "      <td>8.4</td>\n",
       "      <td>Sigourney Weaver</td>\n",
       "      <td>540152</td>\n",
       "      <td>James Cameron</td>\n",
       "      <td>1986</td>\n",
       "    </tr>\n",
       "    <tr>\n",
       "      <th>4</th>\n",
       "      <td>9000000.0</td>\n",
       "      <td>Walt Disney Pictures</td>\n",
       "      <td>USA</td>\n",
       "      <td>Randal Kleiser</td>\n",
       "      <td>Adventure</td>\n",
       "      <td>18564613.0</td>\n",
       "      <td>Flight of the Navigator</td>\n",
       "      <td>PG</td>\n",
       "      <td>1986-08-01</td>\n",
       "      <td>90</td>\n",
       "      <td>6.9</td>\n",
       "      <td>Joey Cramer</td>\n",
       "      <td>36636</td>\n",
       "      <td>Mark H. Baker</td>\n",
       "      <td>1986</td>\n",
       "    </tr>\n",
       "  </tbody>\n",
       "</table>\n",
       "</div>"
      ],
      "text/plain": [
       "       budget                                 company country        director  \\\n",
       "0   8000000.0           Columbia Pictures Corporation     USA      Rob Reiner   \n",
       "1   6000000.0                      Paramount Pictures     USA     John Hughes   \n",
       "2  15000000.0                      Paramount Pictures     USA      Tony Scott   \n",
       "3  18500000.0  Twentieth Century Fox Film Corporation     USA   James Cameron   \n",
       "4   9000000.0                    Walt Disney Pictures     USA  Randal Kleiser   \n",
       "\n",
       "       genre        gross                      name rating    released  \\\n",
       "0  Adventure   52287414.0               Stand by Me      R  1986-08-22   \n",
       "1     Comedy   70136369.0  Ferris Bueller's Day Off  PG-13  1986-06-11   \n",
       "2     Action  179800601.0                   Top Gun     PG  1986-05-16   \n",
       "3     Action   85160248.0                    Aliens      R  1986-07-18   \n",
       "4  Adventure   18564613.0   Flight of the Navigator     PG  1986-08-01   \n",
       "\n",
       "   runtime  score               star   votes         writer  year  \n",
       "0       89    8.1        Wil Wheaton  299174   Stephen King  1986  \n",
       "1      103    7.8  Matthew Broderick  264740    John Hughes  1986  \n",
       "2      110    6.9         Tom Cruise  236909       Jim Cash  1986  \n",
       "3      137    8.4   Sigourney Weaver  540152  James Cameron  1986  \n",
       "4       90    6.9        Joey Cramer   36636  Mark H. Baker  1986  "
      ]
     },
     "execution_count": 4,
     "metadata": {},
     "output_type": "execute_result"
    }
   ],
   "source": [
    "df.head()"
   ]
  },
  {
   "cell_type": "code",
   "execution_count": 5,
   "id": "3bc08e02",
   "metadata": {},
   "outputs": [
    {
     "data": {
      "text/plain": [
       "(6820, 15)"
      ]
     },
     "execution_count": 5,
     "metadata": {},
     "output_type": "execute_result"
    }
   ],
   "source": [
    "df.shape"
   ]
  },
  {
   "cell_type": "code",
   "execution_count": 6,
   "id": "398169f0",
   "metadata": {},
   "outputs": [
    {
     "data": {
      "text/plain": [
       "False"
      ]
     },
     "execution_count": 6,
     "metadata": {},
     "output_type": "execute_result"
    }
   ],
   "source": [
    "df.isnull().values.any() #checking if there are null values in the dataset"
   ]
  },
  {
   "cell_type": "code",
   "execution_count": 7,
   "id": "5fa3f8d0",
   "metadata": {},
   "outputs": [
    {
     "data": {
      "text/plain": [
       "budget      float64\n",
       "company      object\n",
       "country      object\n",
       "director     object\n",
       "genre        object\n",
       "gross       float64\n",
       "name         object\n",
       "rating       object\n",
       "released     object\n",
       "runtime       int64\n",
       "score       float64\n",
       "star         object\n",
       "votes         int64\n",
       "writer       object\n",
       "year          int64\n",
       "dtype: object"
      ]
     },
     "execution_count": 7,
     "metadata": {},
     "output_type": "execute_result"
    }
   ],
   "source": [
    "df.dtypes"
   ]
  },
  {
   "cell_type": "markdown",
   "id": "e04613b0",
   "metadata": {},
   "source": [
    "There are no null values in this dataset. The columns 'budget' and 'gross' are floats and we want to convert them to integers."
   ]
  },
  {
   "cell_type": "code",
   "execution_count": 8,
   "id": "4c32a38b",
   "metadata": {},
   "outputs": [],
   "source": [
    "df['budget'] = df['budget'].astype('int64')\n",
    "df['gross'] = df['gross'].astype('int64')"
   ]
  },
  {
   "cell_type": "code",
   "execution_count": 10,
   "id": "34513dd2",
   "metadata": {},
   "outputs": [
    {
     "data": {
      "text/html": [
       "<div>\n",
       "<style scoped>\n",
       "    .dataframe tbody tr th:only-of-type {\n",
       "        vertical-align: middle;\n",
       "    }\n",
       "\n",
       "    .dataframe tbody tr th {\n",
       "        vertical-align: top;\n",
       "    }\n",
       "\n",
       "    .dataframe thead th {\n",
       "        text-align: right;\n",
       "    }\n",
       "</style>\n",
       "<table border=\"1\" class=\"dataframe\">\n",
       "  <thead>\n",
       "    <tr style=\"text-align: right;\">\n",
       "      <th></th>\n",
       "      <th>budget</th>\n",
       "      <th>company</th>\n",
       "      <th>country</th>\n",
       "      <th>director</th>\n",
       "      <th>genre</th>\n",
       "      <th>gross</th>\n",
       "      <th>name</th>\n",
       "      <th>rating</th>\n",
       "      <th>released</th>\n",
       "      <th>runtime</th>\n",
       "      <th>score</th>\n",
       "      <th>star</th>\n",
       "      <th>votes</th>\n",
       "      <th>writer</th>\n",
       "      <th>year</th>\n",
       "    </tr>\n",
       "  </thead>\n",
       "  <tbody>\n",
       "    <tr>\n",
       "      <th>6815</th>\n",
       "      <td>0</td>\n",
       "      <td>Fox Searchlight Pictures</td>\n",
       "      <td>UK</td>\n",
       "      <td>Mandie Fletcher</td>\n",
       "      <td>Comedy</td>\n",
       "      <td>4750497</td>\n",
       "      <td>Absolutely Fabulous: The Movie</td>\n",
       "      <td>R</td>\n",
       "      <td>2016-07-22</td>\n",
       "      <td>91</td>\n",
       "      <td>5.4</td>\n",
       "      <td>Jennifer Saunders</td>\n",
       "      <td>9161</td>\n",
       "      <td>Jennifer Saunders</td>\n",
       "      <td>2016</td>\n",
       "    </tr>\n",
       "    <tr>\n",
       "      <th>6816</th>\n",
       "      <td>0</td>\n",
       "      <td>Siempre Viva Productions</td>\n",
       "      <td>USA</td>\n",
       "      <td>Paul Duddridge</td>\n",
       "      <td>Drama</td>\n",
       "      <td>28368</td>\n",
       "      <td>Mothers and Daughters</td>\n",
       "      <td>PG-13</td>\n",
       "      <td>2016-05-06</td>\n",
       "      <td>90</td>\n",
       "      <td>4.9</td>\n",
       "      <td>Selma Blair</td>\n",
       "      <td>1959</td>\n",
       "      <td>Paige Cameron</td>\n",
       "      <td>2016</td>\n",
       "    </tr>\n",
       "    <tr>\n",
       "      <th>6817</th>\n",
       "      <td>3500000</td>\n",
       "      <td>Warner Bros. Animation</td>\n",
       "      <td>USA</td>\n",
       "      <td>Sam Liu</td>\n",
       "      <td>Animation</td>\n",
       "      <td>3775000</td>\n",
       "      <td>Batman: The Killing Joke</td>\n",
       "      <td>R</td>\n",
       "      <td>2016-07-25</td>\n",
       "      <td>76</td>\n",
       "      <td>6.5</td>\n",
       "      <td>Kevin Conroy</td>\n",
       "      <td>36333</td>\n",
       "      <td>Brian Azzarello</td>\n",
       "      <td>2016</td>\n",
       "    </tr>\n",
       "    <tr>\n",
       "      <th>6818</th>\n",
       "      <td>0</td>\n",
       "      <td>Borderline Presents</td>\n",
       "      <td>USA</td>\n",
       "      <td>Nicolas Pesce</td>\n",
       "      <td>Drama</td>\n",
       "      <td>25981</td>\n",
       "      <td>The Eyes of My Mother</td>\n",
       "      <td>R</td>\n",
       "      <td>2016-12-02</td>\n",
       "      <td>76</td>\n",
       "      <td>6.2</td>\n",
       "      <td>Kika Magalh�es</td>\n",
       "      <td>6947</td>\n",
       "      <td>Nicolas Pesce</td>\n",
       "      <td>2016</td>\n",
       "    </tr>\n",
       "    <tr>\n",
       "      <th>6819</th>\n",
       "      <td>0</td>\n",
       "      <td>Les Productions du Tr�sor</td>\n",
       "      <td>France</td>\n",
       "      <td>Nicole Garcia</td>\n",
       "      <td>Drama</td>\n",
       "      <td>37757</td>\n",
       "      <td>From the Land of the Moon</td>\n",
       "      <td>R</td>\n",
       "      <td>2017-07-28</td>\n",
       "      <td>120</td>\n",
       "      <td>6.7</td>\n",
       "      <td>Marion Cotillard</td>\n",
       "      <td>2411</td>\n",
       "      <td>Milena Agus</td>\n",
       "      <td>2016</td>\n",
       "    </tr>\n",
       "  </tbody>\n",
       "</table>\n",
       "</div>"
      ],
      "text/plain": [
       "       budget                    company country         director      genre  \\\n",
       "6815        0   Fox Searchlight Pictures      UK  Mandie Fletcher     Comedy   \n",
       "6816        0   Siempre Viva Productions     USA   Paul Duddridge      Drama   \n",
       "6817  3500000     Warner Bros. Animation     USA          Sam Liu  Animation   \n",
       "6818        0        Borderline Presents     USA    Nicolas Pesce      Drama   \n",
       "6819        0  Les Productions du Tr�sor  France    Nicole Garcia      Drama   \n",
       "\n",
       "        gross                            name rating    released  runtime  \\\n",
       "6815  4750497  Absolutely Fabulous: The Movie      R  2016-07-22       91   \n",
       "6816    28368           Mothers and Daughters  PG-13  2016-05-06       90   \n",
       "6817  3775000        Batman: The Killing Joke      R  2016-07-25       76   \n",
       "6818    25981           The Eyes of My Mother      R  2016-12-02       76   \n",
       "6819    37757       From the Land of the Moon      R  2017-07-28      120   \n",
       "\n",
       "      score               star  votes             writer  year  \n",
       "6815    5.4  Jennifer Saunders   9161  Jennifer Saunders  2016  \n",
       "6816    4.9        Selma Blair   1959      Paige Cameron  2016  \n",
       "6817    6.5       Kevin Conroy  36333    Brian Azzarello  2016  \n",
       "6818    6.2     Kika Magalh�es   6947      Nicolas Pesce  2016  \n",
       "6819    6.7   Marion Cotillard   2411        Milena Agus  2016  "
      ]
     },
     "execution_count": 10,
     "metadata": {},
     "output_type": "execute_result"
    }
   ],
   "source": [
    "df.tail()"
   ]
  },
  {
   "cell_type": "markdown",
   "id": "26834e93",
   "metadata": {},
   "source": [
    "As we can see in the last row, there is a difference between the value of the year in the 'released' column and the one in the 'year' column. After checking the dataset schema, which showed that the two values should match, we are going to create a 'correct_year' column extracting the year from the 'released' column."
   ]
  },
  {
   "cell_type": "code",
   "execution_count": 11,
   "id": "7115e5e9",
   "metadata": {},
   "outputs": [],
   "source": [
    "df['correct_year'] = df['released'].astype(str).str[:4]"
   ]
  },
  {
   "cell_type": "code",
   "execution_count": 12,
   "id": "66af98bf",
   "metadata": {},
   "outputs": [
    {
     "data": {
      "text/html": [
       "<div>\n",
       "<style scoped>\n",
       "    .dataframe tbody tr th:only-of-type {\n",
       "        vertical-align: middle;\n",
       "    }\n",
       "\n",
       "    .dataframe tbody tr th {\n",
       "        vertical-align: top;\n",
       "    }\n",
       "\n",
       "    .dataframe thead th {\n",
       "        text-align: right;\n",
       "    }\n",
       "</style>\n",
       "<table border=\"1\" class=\"dataframe\">\n",
       "  <thead>\n",
       "    <tr style=\"text-align: right;\">\n",
       "      <th></th>\n",
       "      <th>budget</th>\n",
       "      <th>company</th>\n",
       "      <th>country</th>\n",
       "      <th>director</th>\n",
       "      <th>genre</th>\n",
       "      <th>gross</th>\n",
       "      <th>name</th>\n",
       "      <th>rating</th>\n",
       "      <th>released</th>\n",
       "      <th>runtime</th>\n",
       "      <th>score</th>\n",
       "      <th>star</th>\n",
       "      <th>votes</th>\n",
       "      <th>writer</th>\n",
       "      <th>year</th>\n",
       "      <th>correct_year</th>\n",
       "    </tr>\n",
       "  </thead>\n",
       "  <tbody>\n",
       "    <tr>\n",
       "      <th>6815</th>\n",
       "      <td>0</td>\n",
       "      <td>Fox Searchlight Pictures</td>\n",
       "      <td>UK</td>\n",
       "      <td>Mandie Fletcher</td>\n",
       "      <td>Comedy</td>\n",
       "      <td>4750497</td>\n",
       "      <td>Absolutely Fabulous: The Movie</td>\n",
       "      <td>R</td>\n",
       "      <td>2016-07-22</td>\n",
       "      <td>91</td>\n",
       "      <td>5.4</td>\n",
       "      <td>Jennifer Saunders</td>\n",
       "      <td>9161</td>\n",
       "      <td>Jennifer Saunders</td>\n",
       "      <td>2016</td>\n",
       "      <td>2016</td>\n",
       "    </tr>\n",
       "    <tr>\n",
       "      <th>6816</th>\n",
       "      <td>0</td>\n",
       "      <td>Siempre Viva Productions</td>\n",
       "      <td>USA</td>\n",
       "      <td>Paul Duddridge</td>\n",
       "      <td>Drama</td>\n",
       "      <td>28368</td>\n",
       "      <td>Mothers and Daughters</td>\n",
       "      <td>PG-13</td>\n",
       "      <td>2016-05-06</td>\n",
       "      <td>90</td>\n",
       "      <td>4.9</td>\n",
       "      <td>Selma Blair</td>\n",
       "      <td>1959</td>\n",
       "      <td>Paige Cameron</td>\n",
       "      <td>2016</td>\n",
       "      <td>2016</td>\n",
       "    </tr>\n",
       "    <tr>\n",
       "      <th>6817</th>\n",
       "      <td>3500000</td>\n",
       "      <td>Warner Bros. Animation</td>\n",
       "      <td>USA</td>\n",
       "      <td>Sam Liu</td>\n",
       "      <td>Animation</td>\n",
       "      <td>3775000</td>\n",
       "      <td>Batman: The Killing Joke</td>\n",
       "      <td>R</td>\n",
       "      <td>2016-07-25</td>\n",
       "      <td>76</td>\n",
       "      <td>6.5</td>\n",
       "      <td>Kevin Conroy</td>\n",
       "      <td>36333</td>\n",
       "      <td>Brian Azzarello</td>\n",
       "      <td>2016</td>\n",
       "      <td>2016</td>\n",
       "    </tr>\n",
       "    <tr>\n",
       "      <th>6818</th>\n",
       "      <td>0</td>\n",
       "      <td>Borderline Presents</td>\n",
       "      <td>USA</td>\n",
       "      <td>Nicolas Pesce</td>\n",
       "      <td>Drama</td>\n",
       "      <td>25981</td>\n",
       "      <td>The Eyes of My Mother</td>\n",
       "      <td>R</td>\n",
       "      <td>2016-12-02</td>\n",
       "      <td>76</td>\n",
       "      <td>6.2</td>\n",
       "      <td>Kika Magalh�es</td>\n",
       "      <td>6947</td>\n",
       "      <td>Nicolas Pesce</td>\n",
       "      <td>2016</td>\n",
       "      <td>2016</td>\n",
       "    </tr>\n",
       "    <tr>\n",
       "      <th>6819</th>\n",
       "      <td>0</td>\n",
       "      <td>Les Productions du Tr�sor</td>\n",
       "      <td>France</td>\n",
       "      <td>Nicole Garcia</td>\n",
       "      <td>Drama</td>\n",
       "      <td>37757</td>\n",
       "      <td>From the Land of the Moon</td>\n",
       "      <td>R</td>\n",
       "      <td>2017-07-28</td>\n",
       "      <td>120</td>\n",
       "      <td>6.7</td>\n",
       "      <td>Marion Cotillard</td>\n",
       "      <td>2411</td>\n",
       "      <td>Milena Agus</td>\n",
       "      <td>2016</td>\n",
       "      <td>2017</td>\n",
       "    </tr>\n",
       "  </tbody>\n",
       "</table>\n",
       "</div>"
      ],
      "text/plain": [
       "       budget                    company country         director      genre  \\\n",
       "6815        0   Fox Searchlight Pictures      UK  Mandie Fletcher     Comedy   \n",
       "6816        0   Siempre Viva Productions     USA   Paul Duddridge      Drama   \n",
       "6817  3500000     Warner Bros. Animation     USA          Sam Liu  Animation   \n",
       "6818        0        Borderline Presents     USA    Nicolas Pesce      Drama   \n",
       "6819        0  Les Productions du Tr�sor  France    Nicole Garcia      Drama   \n",
       "\n",
       "        gross                            name rating    released  runtime  \\\n",
       "6815  4750497  Absolutely Fabulous: The Movie      R  2016-07-22       91   \n",
       "6816    28368           Mothers and Daughters  PG-13  2016-05-06       90   \n",
       "6817  3775000        Batman: The Killing Joke      R  2016-07-25       76   \n",
       "6818    25981           The Eyes of My Mother      R  2016-12-02       76   \n",
       "6819    37757       From the Land of the Moon      R  2017-07-28      120   \n",
       "\n",
       "      score               star  votes             writer  year correct_year  \n",
       "6815    5.4  Jennifer Saunders   9161  Jennifer Saunders  2016         2016  \n",
       "6816    4.9        Selma Blair   1959      Paige Cameron  2016         2016  \n",
       "6817    6.5       Kevin Conroy  36333    Brian Azzarello  2016         2016  \n",
       "6818    6.2     Kika Magalh�es   6947      Nicolas Pesce  2016         2016  \n",
       "6819    6.7   Marion Cotillard   2411        Milena Agus  2016         2017  "
      ]
     },
     "execution_count": 12,
     "metadata": {},
     "output_type": "execute_result"
    }
   ],
   "source": [
    "df.tail()"
   ]
  },
  {
   "cell_type": "markdown",
   "id": "94271dd1",
   "metadata": {},
   "source": [
    "At this point we can cancel the column 'year'."
   ]
  },
  {
   "cell_type": "code",
   "execution_count": 13,
   "id": "ba7b9a98",
   "metadata": {},
   "outputs": [],
   "source": [
    "del df['year']"
   ]
  },
  {
   "cell_type": "markdown",
   "id": "a31b036c",
   "metadata": {},
   "source": []
  },
  {
   "cell_type": "code",
   "execution_count": 14,
   "id": "889bd776",
   "metadata": {},
   "outputs": [
    {
     "data": {
      "text/html": [
       "<div>\n",
       "<style scoped>\n",
       "    .dataframe tbody tr th:only-of-type {\n",
       "        vertical-align: middle;\n",
       "    }\n",
       "\n",
       "    .dataframe tbody tr th {\n",
       "        vertical-align: top;\n",
       "    }\n",
       "\n",
       "    .dataframe thead th {\n",
       "        text-align: right;\n",
       "    }\n",
       "</style>\n",
       "<table border=\"1\" class=\"dataframe\">\n",
       "  <thead>\n",
       "    <tr style=\"text-align: right;\">\n",
       "      <th></th>\n",
       "      <th>budget</th>\n",
       "      <th>company</th>\n",
       "      <th>country</th>\n",
       "      <th>director</th>\n",
       "      <th>genre</th>\n",
       "      <th>gross</th>\n",
       "      <th>name</th>\n",
       "      <th>rating</th>\n",
       "      <th>released</th>\n",
       "      <th>runtime</th>\n",
       "      <th>score</th>\n",
       "      <th>star</th>\n",
       "      <th>votes</th>\n",
       "      <th>writer</th>\n",
       "      <th>correct_year</th>\n",
       "    </tr>\n",
       "  </thead>\n",
       "  <tbody>\n",
       "    <tr>\n",
       "      <th>6380</th>\n",
       "      <td>245000000</td>\n",
       "      <td>Lucasfilm</td>\n",
       "      <td>USA</td>\n",
       "      <td>J.J. Abrams</td>\n",
       "      <td>Action</td>\n",
       "      <td>936662225</td>\n",
       "      <td>Star Wars: The Force Awakens</td>\n",
       "      <td>PG-13</td>\n",
       "      <td>2015-12-18</td>\n",
       "      <td>136</td>\n",
       "      <td>8.1</td>\n",
       "      <td>Daisy Ridley</td>\n",
       "      <td>687192</td>\n",
       "      <td>Lawrence Kasdan</td>\n",
       "      <td>2015</td>\n",
       "    </tr>\n",
       "    <tr>\n",
       "      <th>5061</th>\n",
       "      <td>237000000</td>\n",
       "      <td>Twentieth Century Fox Film Corporation</td>\n",
       "      <td>UK</td>\n",
       "      <td>James Cameron</td>\n",
       "      <td>Action</td>\n",
       "      <td>760507625</td>\n",
       "      <td>Avatar</td>\n",
       "      <td>PG-13</td>\n",
       "      <td>2009-12-18</td>\n",
       "      <td>162</td>\n",
       "      <td>7.8</td>\n",
       "      <td>Sam Worthington</td>\n",
       "      <td>954412</td>\n",
       "      <td>James Cameron</td>\n",
       "      <td>2009</td>\n",
       "    </tr>\n",
       "    <tr>\n",
       "      <th>2420</th>\n",
       "      <td>200000000</td>\n",
       "      <td>Twentieth Century Fox Film Corporation</td>\n",
       "      <td>USA</td>\n",
       "      <td>James Cameron</td>\n",
       "      <td>Drama</td>\n",
       "      <td>658672302</td>\n",
       "      <td>Titanic</td>\n",
       "      <td>PG-13</td>\n",
       "      <td>1997-12-19</td>\n",
       "      <td>194</td>\n",
       "      <td>7.8</td>\n",
       "      <td>Leonardo DiCaprio</td>\n",
       "      <td>862554</td>\n",
       "      <td>James Cameron</td>\n",
       "      <td>1997</td>\n",
       "    </tr>\n",
       "    <tr>\n",
       "      <th>6391</th>\n",
       "      <td>150000000</td>\n",
       "      <td>Universal Pictures</td>\n",
       "      <td>USA</td>\n",
       "      <td>Colin Trevorrow</td>\n",
       "      <td>Action</td>\n",
       "      <td>652270625</td>\n",
       "      <td>Jurassic World</td>\n",
       "      <td>PG-13</td>\n",
       "      <td>2015-06-12</td>\n",
       "      <td>124</td>\n",
       "      <td>7.0</td>\n",
       "      <td>Chris Pratt</td>\n",
       "      <td>469200</td>\n",
       "      <td>Rick Jaffa</td>\n",
       "      <td>2015</td>\n",
       "    </tr>\n",
       "    <tr>\n",
       "      <th>5723</th>\n",
       "      <td>220000000</td>\n",
       "      <td>Marvel Studios</td>\n",
       "      <td>USA</td>\n",
       "      <td>Joss Whedon</td>\n",
       "      <td>Action</td>\n",
       "      <td>623357910</td>\n",
       "      <td>The Avengers</td>\n",
       "      <td>PG-13</td>\n",
       "      <td>2012-05-04</td>\n",
       "      <td>143</td>\n",
       "      <td>8.1</td>\n",
       "      <td>Robert Downey Jr.</td>\n",
       "      <td>1064633</td>\n",
       "      <td>Joss Whedon</td>\n",
       "      <td>2012</td>\n",
       "    </tr>\n",
       "  </tbody>\n",
       "</table>\n",
       "</div>"
      ],
      "text/plain": [
       "         budget                                 company country  \\\n",
       "6380  245000000                               Lucasfilm     USA   \n",
       "5061  237000000  Twentieth Century Fox Film Corporation      UK   \n",
       "2420  200000000  Twentieth Century Fox Film Corporation     USA   \n",
       "6391  150000000                      Universal Pictures     USA   \n",
       "5723  220000000                          Marvel Studios     USA   \n",
       "\n",
       "             director   genre      gross                          name rating  \\\n",
       "6380      J.J. Abrams  Action  936662225  Star Wars: The Force Awakens  PG-13   \n",
       "5061    James Cameron  Action  760507625                        Avatar  PG-13   \n",
       "2420    James Cameron   Drama  658672302                       Titanic  PG-13   \n",
       "6391  Colin Trevorrow  Action  652270625                Jurassic World  PG-13   \n",
       "5723      Joss Whedon  Action  623357910                  The Avengers  PG-13   \n",
       "\n",
       "        released  runtime  score               star    votes           writer  \\\n",
       "6380  2015-12-18      136    8.1       Daisy Ridley   687192  Lawrence Kasdan   \n",
       "5061  2009-12-18      162    7.8    Sam Worthington   954412    James Cameron   \n",
       "2420  1997-12-19      194    7.8  Leonardo DiCaprio   862554    James Cameron   \n",
       "6391  2015-06-12      124    7.0        Chris Pratt   469200       Rick Jaffa   \n",
       "5723  2012-05-04      143    8.1  Robert Downey Jr.  1064633      Joss Whedon   \n",
       "\n",
       "     correct_year  \n",
       "6380         2015  \n",
       "5061         2009  \n",
       "2420         1997  \n",
       "6391         2015  \n",
       "5723         2012  "
      ]
     },
     "execution_count": 14,
     "metadata": {},
     "output_type": "execute_result"
    }
   ],
   "source": [
    "df.sort_values(by = ['gross'], inplace = False, ascending = False).head()"
   ]
  },
  {
   "cell_type": "code",
   "execution_count": 13,
   "id": "a1f015d0",
   "metadata": {},
   "outputs": [
    {
     "data": {
      "text/html": [
       "<div>\n",
       "<style scoped>\n",
       "    .dataframe tbody tr th:only-of-type {\n",
       "        vertical-align: middle;\n",
       "    }\n",
       "\n",
       "    .dataframe tbody tr th {\n",
       "        vertical-align: top;\n",
       "    }\n",
       "\n",
       "    .dataframe thead th {\n",
       "        text-align: right;\n",
       "    }\n",
       "</style>\n",
       "<table border=\"1\" class=\"dataframe\">\n",
       "  <thead>\n",
       "    <tr style=\"text-align: right;\">\n",
       "      <th></th>\n",
       "      <th>budget</th>\n",
       "      <th>company</th>\n",
       "      <th>country</th>\n",
       "      <th>director</th>\n",
       "      <th>genre</th>\n",
       "      <th>gross</th>\n",
       "      <th>name</th>\n",
       "      <th>rating</th>\n",
       "      <th>released</th>\n",
       "      <th>runtime</th>\n",
       "      <th>score</th>\n",
       "      <th>star</th>\n",
       "      <th>votes</th>\n",
       "      <th>writer</th>\n",
       "      <th>correct_year</th>\n",
       "    </tr>\n",
       "  </thead>\n",
       "  <tbody>\n",
       "    <tr>\n",
       "      <th>0</th>\n",
       "      <td>8000000</td>\n",
       "      <td>Columbia Pictures Corporation</td>\n",
       "      <td>USA</td>\n",
       "      <td>Rob Reiner</td>\n",
       "      <td>Adventure</td>\n",
       "      <td>52287414</td>\n",
       "      <td>Stand by Me</td>\n",
       "      <td>R</td>\n",
       "      <td>1986-08-22</td>\n",
       "      <td>89</td>\n",
       "      <td>8.1</td>\n",
       "      <td>Wil Wheaton</td>\n",
       "      <td>299174</td>\n",
       "      <td>Stephen King</td>\n",
       "      <td>1986</td>\n",
       "    </tr>\n",
       "    <tr>\n",
       "      <th>1</th>\n",
       "      <td>6000000</td>\n",
       "      <td>Paramount Pictures</td>\n",
       "      <td>USA</td>\n",
       "      <td>John Hughes</td>\n",
       "      <td>Comedy</td>\n",
       "      <td>70136369</td>\n",
       "      <td>Ferris Bueller's Day Off</td>\n",
       "      <td>PG-13</td>\n",
       "      <td>1986-06-11</td>\n",
       "      <td>103</td>\n",
       "      <td>7.8</td>\n",
       "      <td>Matthew Broderick</td>\n",
       "      <td>264740</td>\n",
       "      <td>John Hughes</td>\n",
       "      <td>1986</td>\n",
       "    </tr>\n",
       "    <tr>\n",
       "      <th>2</th>\n",
       "      <td>15000000</td>\n",
       "      <td>Paramount Pictures</td>\n",
       "      <td>USA</td>\n",
       "      <td>Tony Scott</td>\n",
       "      <td>Action</td>\n",
       "      <td>179800601</td>\n",
       "      <td>Top Gun</td>\n",
       "      <td>PG</td>\n",
       "      <td>1986-05-16</td>\n",
       "      <td>110</td>\n",
       "      <td>6.9</td>\n",
       "      <td>Tom Cruise</td>\n",
       "      <td>236909</td>\n",
       "      <td>Jim Cash</td>\n",
       "      <td>1986</td>\n",
       "    </tr>\n",
       "    <tr>\n",
       "      <th>3</th>\n",
       "      <td>18500000</td>\n",
       "      <td>Twentieth Century Fox Film Corporation</td>\n",
       "      <td>USA</td>\n",
       "      <td>James Cameron</td>\n",
       "      <td>Action</td>\n",
       "      <td>85160248</td>\n",
       "      <td>Aliens</td>\n",
       "      <td>R</td>\n",
       "      <td>1986-07-18</td>\n",
       "      <td>137</td>\n",
       "      <td>8.4</td>\n",
       "      <td>Sigourney Weaver</td>\n",
       "      <td>540152</td>\n",
       "      <td>James Cameron</td>\n",
       "      <td>1986</td>\n",
       "    </tr>\n",
       "    <tr>\n",
       "      <th>4</th>\n",
       "      <td>9000000</td>\n",
       "      <td>Walt Disney Pictures</td>\n",
       "      <td>USA</td>\n",
       "      <td>Randal Kleiser</td>\n",
       "      <td>Adventure</td>\n",
       "      <td>18564613</td>\n",
       "      <td>Flight of the Navigator</td>\n",
       "      <td>PG</td>\n",
       "      <td>1986-08-01</td>\n",
       "      <td>90</td>\n",
       "      <td>6.9</td>\n",
       "      <td>Joey Cramer</td>\n",
       "      <td>36636</td>\n",
       "      <td>Mark H. Baker</td>\n",
       "      <td>1986</td>\n",
       "    </tr>\n",
       "    <tr>\n",
       "      <th>...</th>\n",
       "      <td>...</td>\n",
       "      <td>...</td>\n",
       "      <td>...</td>\n",
       "      <td>...</td>\n",
       "      <td>...</td>\n",
       "      <td>...</td>\n",
       "      <td>...</td>\n",
       "      <td>...</td>\n",
       "      <td>...</td>\n",
       "      <td>...</td>\n",
       "      <td>...</td>\n",
       "      <td>...</td>\n",
       "      <td>...</td>\n",
       "      <td>...</td>\n",
       "      <td>...</td>\n",
       "    </tr>\n",
       "    <tr>\n",
       "      <th>6815</th>\n",
       "      <td>0</td>\n",
       "      <td>Fox Searchlight Pictures</td>\n",
       "      <td>UK</td>\n",
       "      <td>Mandie Fletcher</td>\n",
       "      <td>Comedy</td>\n",
       "      <td>4750497</td>\n",
       "      <td>Absolutely Fabulous: The Movie</td>\n",
       "      <td>R</td>\n",
       "      <td>2016-07-22</td>\n",
       "      <td>91</td>\n",
       "      <td>5.4</td>\n",
       "      <td>Jennifer Saunders</td>\n",
       "      <td>9161</td>\n",
       "      <td>Jennifer Saunders</td>\n",
       "      <td>2016</td>\n",
       "    </tr>\n",
       "    <tr>\n",
       "      <th>6816</th>\n",
       "      <td>0</td>\n",
       "      <td>Siempre Viva Productions</td>\n",
       "      <td>USA</td>\n",
       "      <td>Paul Duddridge</td>\n",
       "      <td>Drama</td>\n",
       "      <td>28368</td>\n",
       "      <td>Mothers and Daughters</td>\n",
       "      <td>PG-13</td>\n",
       "      <td>2016-05-06</td>\n",
       "      <td>90</td>\n",
       "      <td>4.9</td>\n",
       "      <td>Selma Blair</td>\n",
       "      <td>1959</td>\n",
       "      <td>Paige Cameron</td>\n",
       "      <td>2016</td>\n",
       "    </tr>\n",
       "    <tr>\n",
       "      <th>6817</th>\n",
       "      <td>3500000</td>\n",
       "      <td>Warner Bros. Animation</td>\n",
       "      <td>USA</td>\n",
       "      <td>Sam Liu</td>\n",
       "      <td>Animation</td>\n",
       "      <td>3775000</td>\n",
       "      <td>Batman: The Killing Joke</td>\n",
       "      <td>R</td>\n",
       "      <td>2016-07-25</td>\n",
       "      <td>76</td>\n",
       "      <td>6.5</td>\n",
       "      <td>Kevin Conroy</td>\n",
       "      <td>36333</td>\n",
       "      <td>Brian Azzarello</td>\n",
       "      <td>2016</td>\n",
       "    </tr>\n",
       "    <tr>\n",
       "      <th>6818</th>\n",
       "      <td>0</td>\n",
       "      <td>Borderline Presents</td>\n",
       "      <td>USA</td>\n",
       "      <td>Nicolas Pesce</td>\n",
       "      <td>Drama</td>\n",
       "      <td>25981</td>\n",
       "      <td>The Eyes of My Mother</td>\n",
       "      <td>R</td>\n",
       "      <td>2016-12-02</td>\n",
       "      <td>76</td>\n",
       "      <td>6.2</td>\n",
       "      <td>Kika Magalh�es</td>\n",
       "      <td>6947</td>\n",
       "      <td>Nicolas Pesce</td>\n",
       "      <td>2016</td>\n",
       "    </tr>\n",
       "    <tr>\n",
       "      <th>6819</th>\n",
       "      <td>0</td>\n",
       "      <td>Les Productions du Tr�sor</td>\n",
       "      <td>France</td>\n",
       "      <td>Nicole Garcia</td>\n",
       "      <td>Drama</td>\n",
       "      <td>37757</td>\n",
       "      <td>From the Land of the Moon</td>\n",
       "      <td>R</td>\n",
       "      <td>2017-07-28</td>\n",
       "      <td>120</td>\n",
       "      <td>6.7</td>\n",
       "      <td>Marion Cotillard</td>\n",
       "      <td>2411</td>\n",
       "      <td>Milena Agus</td>\n",
       "      <td>2017</td>\n",
       "    </tr>\n",
       "  </tbody>\n",
       "</table>\n",
       "<p>6820 rows × 15 columns</p>\n",
       "</div>"
      ],
      "text/plain": [
       "        budget                                 company country  \\\n",
       "0      8000000           Columbia Pictures Corporation     USA   \n",
       "1      6000000                      Paramount Pictures     USA   \n",
       "2     15000000                      Paramount Pictures     USA   \n",
       "3     18500000  Twentieth Century Fox Film Corporation     USA   \n",
       "4      9000000                    Walt Disney Pictures     USA   \n",
       "...        ...                                     ...     ...   \n",
       "6815         0                Fox Searchlight Pictures      UK   \n",
       "6816         0                Siempre Viva Productions     USA   \n",
       "6817   3500000                  Warner Bros. Animation     USA   \n",
       "6818         0                     Borderline Presents     USA   \n",
       "6819         0               Les Productions du Tr�sor  France   \n",
       "\n",
       "             director      genre      gross                            name  \\\n",
       "0          Rob Reiner  Adventure   52287414                     Stand by Me   \n",
       "1         John Hughes     Comedy   70136369        Ferris Bueller's Day Off   \n",
       "2          Tony Scott     Action  179800601                         Top Gun   \n",
       "3       James Cameron     Action   85160248                          Aliens   \n",
       "4      Randal Kleiser  Adventure   18564613         Flight of the Navigator   \n",
       "...               ...        ...        ...                             ...   \n",
       "6815  Mandie Fletcher     Comedy    4750497  Absolutely Fabulous: The Movie   \n",
       "6816   Paul Duddridge      Drama      28368           Mothers and Daughters   \n",
       "6817          Sam Liu  Animation    3775000        Batman: The Killing Joke   \n",
       "6818    Nicolas Pesce      Drama      25981           The Eyes of My Mother   \n",
       "6819    Nicole Garcia      Drama      37757       From the Land of the Moon   \n",
       "\n",
       "     rating    released  runtime  score               star   votes  \\\n",
       "0         R  1986-08-22       89    8.1        Wil Wheaton  299174   \n",
       "1     PG-13  1986-06-11      103    7.8  Matthew Broderick  264740   \n",
       "2        PG  1986-05-16      110    6.9         Tom Cruise  236909   \n",
       "3         R  1986-07-18      137    8.4   Sigourney Weaver  540152   \n",
       "4        PG  1986-08-01       90    6.9        Joey Cramer   36636   \n",
       "...     ...         ...      ...    ...                ...     ...   \n",
       "6815      R  2016-07-22       91    5.4  Jennifer Saunders    9161   \n",
       "6816  PG-13  2016-05-06       90    4.9        Selma Blair    1959   \n",
       "6817      R  2016-07-25       76    6.5       Kevin Conroy   36333   \n",
       "6818      R  2016-12-02       76    6.2     Kika Magalh�es    6947   \n",
       "6819      R  2017-07-28      120    6.7   Marion Cotillard    2411   \n",
       "\n",
       "                 writer correct_year  \n",
       "0          Stephen King         1986  \n",
       "1           John Hughes         1986  \n",
       "2              Jim Cash         1986  \n",
       "3         James Cameron         1986  \n",
       "4         Mark H. Baker         1986  \n",
       "...                 ...          ...  \n",
       "6815  Jennifer Saunders         2016  \n",
       "6816      Paige Cameron         2016  \n",
       "6817    Brian Azzarello         2016  \n",
       "6818      Nicolas Pesce         2016  \n",
       "6819        Milena Agus         2017  \n",
       "\n",
       "[6820 rows x 15 columns]"
      ]
     },
     "execution_count": 13,
     "metadata": {},
     "output_type": "execute_result"
    }
   ],
   "source": [
    "df.drop_duplicates() #drop duplicate rows if there are any"
   ]
  },
  {
   "cell_type": "markdown",
   "id": "3369a0be",
   "metadata": {},
   "source": [
    "We can see that the number of rows hasn't changed, meaning that there were no duplicates in this dataset."
   ]
  },
  {
   "cell_type": "markdown",
   "id": "b9e1d531",
   "metadata": {},
   "source": [
    "## Exploratory Data Analysis"
   ]
  },
  {
   "cell_type": "markdown",
   "id": "1053e10e",
   "metadata": {},
   "source": [
    "Let's now look at correlations between the numerical columns."
   ]
  },
  {
   "cell_type": "code",
   "execution_count": 20,
   "id": "c30aa1be",
   "metadata": {},
   "outputs": [
    {
     "data": {
      "text/plain": [
       "<function matplotlib.pyplot.show(close=None, block=None)>"
      ]
     },
     "execution_count": 20,
     "metadata": {},
     "output_type": "execute_result"
    },
    {
     "data": {
      "image/png": "[encoded data removed]",
      "text/plain": [
       "<Figure size 864x576 with 2 Axes>"
      ]
     },
     "metadata": {
      "needs_background": "light"
     },
     "output_type": "display_data"
    }
   ],
   "source": [
    "correlation_matrix = df.corr()\n",
    "sns.heatmap(correlation_matrix, annot= True)\n",
    "\n",
    "plt.title('Correlation Matrix for Numeric Features')\n",
    "\n",
    "plt.xlabel('Movie Features')\n",
    "\n",
    "plt.ylabel('Movie Features')\n",
    "\n",
    "plt.show"
   ]
  },
  {
   "cell_type": "markdown",
   "id": "d3eb696a",
   "metadata": {},
   "source": [
    "We can see that the column 'gross' has a strong correlation with the columns 'budget' and 'votes'. Let's now look at these correlations individually."
   ]
  },
  {
   "cell_type": "markdown",
   "id": "e15e1e5f",
   "metadata": {},
   "source": [
    "### Correlations with 'budget' and 'votes'."
   ]
  },
  {
   "cell_type": "code",
   "execution_count": 19,
   "id": "381b1ab4",
   "metadata": {},
   "outputs": [
    {
     "data": {
      "text/plain": [
       "<AxesSubplot:xlabel='budget', ylabel='gross'>"
      ]
     },
     "execution_count": 19,
     "metadata": {},
     "output_type": "execute_result"
    },
    {
     "data": {
      "image/png": "[encoded data removed]",
      "text/plain": [
       "<Figure size 864x576 with 1 Axes>"
      ]
     },
     "metadata": {
      "needs_background": "light"
     },
     "output_type": "display_data"
    }
   ],
   "source": [
    "sns.regplot(x= 'budget', y= 'gross', data= df, scatter_kws = {'color':'red'}, line_kws = {'color':'blue'})"
   ]
  },
  {
   "cell_type": "code",
   "execution_count": 18,
   "id": "f9201a56",
   "metadata": {},
   "outputs": [
    {
     "data": {
      "text/plain": [
       "<AxesSubplot:xlabel='budget', ylabel='votes'>"
      ]
     },
     "execution_count": 18,
     "metadata": {},
     "output_type": "execute_result"
    },
    {
     "data": {
      "image/png": "[encoded data removed]",
      "text/plain": [
       "<Figure size 864x576 with 1 Axes>"
      ]
     },
     "metadata": {
      "needs_background": "light"
     },
     "output_type": "display_data"
    }
   ],
   "source": [
    "sns.regplot(x= 'budget', y= 'votes', data= df, scatter_kws = {'color':'red'}, line_kws = {'color':'blue'})\n",
    "\n"
   ]
  },
  {
   "cell_type": "markdown",
   "id": "1f710e86",
   "metadata": {},
   "source": [
    "These plots tell us that generally, when the budget used to make the movie increases, also the gross revenue increases, and that higher gross revenues are reflected in higher votes from the audience."
   ]
  },
  {
   "cell_type": "markdown",
   "id": "28ac9ed1",
   "metadata": {},
   "source": [
    "Now we will check whether gross revenue genereted by movies has a time trend."
   ]
  },
  {
   "cell_type": "markdown",
   "id": "ff577a0a",
   "metadata": {},
   "source": [
    "### Time trend"
   ]
  },
  {
   "cell_type": "code",
   "execution_count": 23,
   "id": "1c20b639",
   "metadata": {},
   "outputs": [
    {
     "data": {
      "text/plain": [
       "correct_year\n",
       "1986    1.486475e+07\n",
       "1987    1.622681e+07\n",
       "1988    1.629395e+07\n",
       "1989    1.903168e+07\n",
       "1990    2.124118e+07\n",
       "1991    1.896209e+07\n",
       "1992    2.321303e+07\n",
       "1993    2.169972e+07\n",
       "1994    2.344834e+07\n",
       "1995    2.235356e+07\n",
       "1996    2.588414e+07\n",
       "1997    2.974979e+07\n",
       "1998    2.746274e+07\n",
       "1999    3.379731e+07\n",
       "2000    3.362068e+07\n",
       "2001    3.619181e+07\n",
       "2002    3.902012e+07\n",
       "2003    3.912861e+07\n",
       "2004    4.256796e+07\n",
       "2005    4.007914e+07\n",
       "2006    4.029920e+07\n",
       "2007    4.033614e+07\n",
       "2008    3.949806e+07\n",
       "2009    5.183881e+07\n",
       "2010    4.696258e+07\n",
       "2011    4.226331e+07\n",
       "2012    4.655554e+07\n",
       "2013    4.678780e+07\n",
       "2014    4.420517e+07\n",
       "2015    4.720154e+07\n",
       "2016    4.957556e+07\n",
       "2017    1.208610e+07\n",
       "Name: gross, dtype: float64"
      ]
     },
     "execution_count": 23,
     "metadata": {},
     "output_type": "execute_result"
    }
   ],
   "source": [
    "df.groupby('correct_year').gross.mean()"
   ]
  },
  {
   "cell_type": "code",
   "execution_count": 24,
   "id": "798d9177",
   "metadata": {},
   "outputs": [
    {
     "data": {
      "text/plain": [
       "<AxesSubplot:title={'center':'Average Gross Revenue per Movie from 1986 to 2017'}, xlabel='Year', ylabel='Average Gross Revenue per Movie'>"
      ]
     },
     "execution_count": 24,
     "metadata": {},
     "output_type": "execute_result"
    },
    {
     "data": {
      "image/png": "[encoded data removed]",
      "text/plain": [
       "<Figure size 864x576 with 1 Axes>"
      ]
     },
     "metadata": {
      "needs_background": "light"
     },
     "output_type": "display_data"
    }
   ],
   "source": [
    "df.groupby('correct_year').gross.mean().plot.bar(xlabel = 'Year', ylabel = 'Average Gross Revenue per Movie', title = 'Average Gross Revenue per Movie from 1986 to 2017', legend = True)\n"
   ]
  },
  {
   "cell_type": "markdown",
   "id": "d6714c7f",
   "metadata": {},
   "source": [
    "This graph shows that there was a clear positive trend from 1986 until 2009 , meaning that movies averagely generated a higher gross income year after year, and after 2009 the average gross revenue per movie is quite stationary; we can also notice that there is something wrong with the year 2017, probably this dataset contains less movies that were made in 2017. Let's see if that's the case."
   ]
  },
  {
   "cell_type": "code",
   "execution_count": 15,
   "id": "eb004505",
   "metadata": {},
   "outputs": [
    {
     "data": {
      "text/plain": [
       "56"
      ]
     },
     "execution_count": 15,
     "metadata": {},
     "output_type": "execute_result"
    }
   ],
   "source": [
    "len(df[df['correct_year'] == '2017'])  #number of movies from 2017 in the dataset"
   ]
  },
  {
   "cell_type": "code",
   "execution_count": 16,
   "id": "71f86b92",
   "metadata": {},
   "outputs": [
    {
     "data": {
      "text/plain": [
       "218"
      ]
     },
     "execution_count": 16,
     "metadata": {},
     "output_type": "execute_result"
    }
   ],
   "source": [
    "len(df[df['correct_year'] == '2016'])  #number of movies from 2016 in the dataset"
   ]
  },
  {
   "cell_type": "markdown",
   "id": "40059172",
   "metadata": {},
   "source": [
    "As we can see we have a shortage of movies from 2017 in this dataset, which justifies the shape of the previous graph. This means that if we want to estimate a value for the trend (for example the percentage increase of the average gross revenue over time) we would need to esclude the rows from 2017."
   ]
  },
  {
   "cell_type": "markdown",
   "id": "54753314",
   "metadata": {},
   "source": [
    "Now we will have a look at the relationships between some categorical columns and the gross revenue. We'll start from the column 'genre'."
   ]
  },
  {
   "cell_type": "markdown",
   "id": "59777d2f",
   "metadata": {},
   "source": [
    "### Correlation with movie genre"
   ]
  },
  {
   "cell_type": "code",
   "execution_count": 22,
   "id": "c59c2160",
   "metadata": {},
   "outputs": [
    {
     "data": {
      "text/plain": [
       "genre\n",
       "Animation    9.148810e+07\n",
       "Action       5.619281e+07\n",
       "Adventure    5.330381e+07\n",
       "Mystery      3.631451e+07\n",
       "Comedy       2.574203e+07\n",
       "Horror       2.569620e+07\n",
       "Biography    2.400425e+07\n",
       "Sci-Fi       2.367705e+07\n",
       "Fantasy      2.014541e+07\n",
       "Crime        1.957440e+07\n",
       "Drama        1.745472e+07\n",
       "Romance      9.717614e+06\n",
       "Western      9.259547e+06\n",
       "Family       8.436443e+06\n",
       "Thriller     5.533345e+06\n",
       "Musical      2.023748e+06\n",
       "War          7.548875e+05\n",
       "Name: gross, dtype: float64"
      ]
     },
     "execution_count": 22,
     "metadata": {},
     "output_type": "execute_result"
    }
   ],
   "source": [
    "df.groupby('genre')['gross'].agg('mean').sort_values(ascending = False)"
   ]
  },
  {
   "cell_type": "code",
   "execution_count": 25,
   "id": "4785d64d",
   "metadata": {},
   "outputs": [
    {
     "data": {
      "text/plain": [
       "<AxesSubplot:title={'center':'Average Gross Revenue per Movie by Genre'}, xlabel='Movie Genre', ylabel='Average Gross Revenue per Movie'>"
      ]
     },
     "execution_count": 25,
     "metadata": {},
     "output_type": "execute_result"
    },
    {
     "data": {
      "image/png": "[encoded data removed]",
      "text/plain": [
       "<Figure size 864x576 with 1 Axes>"
      ]
     },
     "metadata": {
      "needs_background": "light"
     },
     "output_type": "display_data"
    }
   ],
   "source": [
    "df.groupby('genre')['gross'].agg('mean').sort_values(ascending = False).plot.bar(xlabel = 'Movie Genre', ylabel = 'Average Gross Revenue per Movie', title = 'Average Gross Revenue per Movie by Genre', legend = True)"
   ]
  },
  {
   "cell_type": "markdown",
   "id": "527999ff",
   "metadata": {},
   "source": [
    "Here we can see that, on average, animation movies generate the highest gross revenue per movie. "
   ]
  },
  {
   "cell_type": "markdown",
   "id": "012c0f44",
   "metadata": {},
   "source": [
    "### Correlation with director's experience"
   ]
  },
  {
   "cell_type": "markdown",
   "id": "1b69d1e7",
   "metadata": {},
   "source": [
    "Now we will try to understand if there is a correlation between the gross revenue generated by a movie and the experience of directors. In this case we will approximate the experience of a director to the number of movies directed."
   ]
  },
  {
   "cell_type": "code",
   "execution_count": 26,
   "id": "97fc3da5",
   "metadata": {},
   "outputs": [
    {
     "data": {
      "text/plain": [
       "director\n",
       "A.R. Murugadoss       2.411071e+06\n",
       "Aamir Khan            1.204660e+06\n",
       "Aaron Blaise          8.533628e+07\n",
       "Aaron Harvey          1.887000e+03\n",
       "Aaron Kim Johnston    1.215480e+05\n",
       "                          ...     \n",
       "�lex de la Iglesia    1.965333e+04\n",
       "�lie Chouraqui        5.195960e+05\n",
       "�ric Rohmer           2.812862e+05\n",
       "�tienne Chatiliez     6.046240e+05\n",
       "�va G�rdos            8.500230e+05\n",
       "Name: gross, Length: 2759, dtype: float64"
      ]
     },
     "execution_count": 26,
     "metadata": {},
     "output_type": "execute_result"
    }
   ],
   "source": [
    "movie_avg_gross_per_director = df.groupby('director')['gross'].agg('mean').sort_values(ascending = True)\n",
    "movie_avg_gross_per_director.sort_index()"
   ]
  },
  {
   "cell_type": "code",
   "execution_count": 27,
   "id": "43f6f254",
   "metadata": {},
   "outputs": [
    {
     "data": {
      "text/plain": [
       "A.R. Murugadoss       1\n",
       "Aamir Khan            1\n",
       "Aaron Blaise          1\n",
       "Aaron Harvey          1\n",
       "Aaron Kim Johnston    1\n",
       "                     ..\n",
       "�lex de la Iglesia    3\n",
       "�lie Chouraqui        1\n",
       "�ric Rohmer           6\n",
       "�tienne Chatiliez     1\n",
       "�va G�rdos            1\n",
       "Name: director, Length: 2759, dtype: int64"
      ]
     },
     "execution_count": 27,
     "metadata": {},
     "output_type": "execute_result"
    }
   ],
   "source": [
    "n_of_movies_per_director = df['director'].value_counts()\n",
    "n_of_movies_per_director.sort_index()"
   ]
  },
  {
   "cell_type": "code",
   "execution_count": 29,
   "id": "6d0e53e0",
   "metadata": {},
   "outputs": [
    {
     "data": {
      "image/png": "[encoded data removed]",
      "text/plain": [
       "<Figure size 864x576 with 1 Axes>"
      ]
     },
     "metadata": {
      "needs_background": "light"
     },
     "output_type": "display_data"
    }
   ],
   "source": [
    "director_table = pd.concat([n_of_movies_per_director, movie_avg_gross_per_director ], axis=1)\n",
    "director_table.rename(columns = {'director' : 'n of movies'}, inplace = True)\n",
    "director_table.rename(columns = {'gross' : 'average gross per movie'}, inplace = True)\n",
    "\n",
    "director_table.sort_values(by = 'n of movies', ascending = False)\n",
    "\n",
    "plt.scatter(x=director_table['n of movies'], y=director_table['average gross per movie'])\n",
    "\n",
    "plt.title('Director Experience vs Average Gross Per Movie')\n",
    "\n",
    "plt.xlabel('N of movies')\n",
    "\n",
    "plt.ylabel('Average gross Revenue per Movie')\n",
    "\n",
    "\n",
    "plt.show()"
   ]
  },
  {
   "cell_type": "markdown",
   "id": "e986aa02",
   "metadata": {},
   "source": [
    "Here we can see that more experienced directors not necessarily make a higher average gross revenue from their movies, actually, the directors with the highest average gross revenue per movie are those who made between 1-5 movies in this dataset."
   ]
  },
  {
   "cell_type": "markdown",
   "id": "9f1ff951",
   "metadata": {},
   "source": []
  },
  {
   "cell_type": "markdown",
   "id": "0c4fdd6b",
   "metadata": {},
   "source": []
  },
  {
   "cell_type": "markdown",
   "id": "8f2b80e5",
   "metadata": {},
   "source": [
    "## Top Twenty"
   ]
  },
  {
   "cell_type": "markdown",
   "id": "53031366",
   "metadata": {},
   "source": [
    "Now we can have a look at which are the top 20 movies that had the highest gross revenue in the history of cinema between 1986-2017 divided by genre."
   ]
  },
  {
   "cell_type": "code",
   "execution_count": 30,
   "id": "5ef7d197",
   "metadata": {},
   "outputs": [
    {
     "data": {
      "text/plain": [
       "genre      name                                      \n",
       "Action     Star Wars: The Force Awakens                  936662225\n",
       "           Avatar                                        760507625\n",
       "Drama      Titanic                                       658672302\n",
       "Action     Jurassic World                                652270625\n",
       "           The Avengers                                  623357910\n",
       "           The Dark Knight                               534858444\n",
       "           Rogue One                                     532177324\n",
       "Animation  Finding Dory                                  486295561\n",
       "Action     Star Wars: Episode I - The Phantom Menace     474544677\n",
       "           Avengers: Age of Ultron                       459005868\n",
       "           The Dark Knight Rises                         448139099\n",
       "Animation  Shrek 2                                       436471036\n",
       "Action     The Hunger Games: Catching Fire               424668047\n",
       "           Pirates of the Caribbean: Dead Man's Chest    423315812\n",
       "Animation  Toy Story 3                                   415004880\n",
       "Action     Iron Man 3                                    409013994\n",
       "           Captain America: Civil War                    408084349\n",
       "Adventure  The Hunger Games                              408010692\n",
       "Action     Spider-Man                                    403706375\n",
       "Adventure  Jurassic Park                                 402453882\n",
       "Name: gross, dtype: int64"
      ]
     },
     "execution_count": 30,
     "metadata": {},
     "output_type": "execute_result"
    }
   ],
   "source": [
    "df.groupby(['genre','name'])['gross'].agg(np.max).sort_values(ascending = False).head(20)"
   ]
  },
  {
   "cell_type": "code",
   "execution_count": 31,
   "id": "64d9b207",
   "metadata": {},
   "outputs": [],
   "source": [
    "top_twenty = df.groupby(['genre','name'])['gross'].agg(np.max).sort_values(ascending = False).head(20) #store top 20 with multi-index into a variable"
   ]
  },
  {
   "cell_type": "code",
   "execution_count": 32,
   "id": "446d0ec9",
   "metadata": {},
   "outputs": [
    {
     "data": {
      "text/plain": [
       "MultiIndex([(   'Action',               'Star Wars: The Force Awakens'),\n",
       "            (   'Action',                                     'Avatar'),\n",
       "            (    'Drama',                                    'Titanic'),\n",
       "            (   'Action',                             'Jurassic World'),\n",
       "            (   'Action',                               'The Avengers'),\n",
       "            (   'Action',                            'The Dark Knight'),\n",
       "            (   'Action',                                  'Rogue One'),\n",
       "            ('Animation',                               'Finding Dory'),\n",
       "            (   'Action',  'Star Wars: Episode I - The Phantom Menace'),\n",
       "            (   'Action',                    'Avengers: Age of Ultron'),\n",
       "            (   'Action',                      'The Dark Knight Rises'),\n",
       "            ('Animation',                                    'Shrek 2'),\n",
       "            (   'Action',            'The Hunger Games: Catching Fire'),\n",
       "            (   'Action', 'Pirates of the Caribbean: Dead Man's Chest'),\n",
       "            ('Animation',                                'Toy Story 3'),\n",
       "            (   'Action',                                 'Iron Man 3'),\n",
       "            (   'Action',                 'Captain America: Civil War'),\n",
       "            ('Adventure',                           'The Hunger Games'),\n",
       "            (   'Action',                                 'Spider-Man'),\n",
       "            ('Adventure',                              'Jurassic Park')],\n",
       "           names=['genre', 'name'])"
      ]
     },
     "execution_count": 32,
     "metadata": {},
     "output_type": "execute_result"
    }
   ],
   "source": [
    "top_twenty.index"
   ]
  },
  {
   "cell_type": "code",
   "execution_count": 33,
   "id": "bb73cd30",
   "metadata": {},
   "outputs": [],
   "source": [
    "top_twenty = top_twenty.reset_index() #reset index is used to transform the series with multi indexes into a dataframe with a new numerical index and 3 columns"
   ]
  },
  {
   "cell_type": "code",
   "execution_count": 34,
   "id": "ccd64a16",
   "metadata": {},
   "outputs": [
    {
     "data": {
      "text/html": [
       "<div>\n",
       "<style scoped>\n",
       "    .dataframe tbody tr th:only-of-type {\n",
       "        vertical-align: middle;\n",
       "    }\n",
       "\n",
       "    .dataframe tbody tr th {\n",
       "        vertical-align: top;\n",
       "    }\n",
       "\n",
       "    .dataframe thead th {\n",
       "        text-align: right;\n",
       "    }\n",
       "</style>\n",
       "<table border=\"1\" class=\"dataframe\">\n",
       "  <thead>\n",
       "    <tr style=\"text-align: right;\">\n",
       "      <th></th>\n",
       "      <th>genre</th>\n",
       "      <th>name</th>\n",
       "      <th>gross</th>\n",
       "    </tr>\n",
       "  </thead>\n",
       "  <tbody>\n",
       "    <tr>\n",
       "      <th>0</th>\n",
       "      <td>Action</td>\n",
       "      <td>Star Wars: The Force Awakens</td>\n",
       "      <td>936662225</td>\n",
       "    </tr>\n",
       "    <tr>\n",
       "      <th>1</th>\n",
       "      <td>Action</td>\n",
       "      <td>Avatar</td>\n",
       "      <td>760507625</td>\n",
       "    </tr>\n",
       "    <tr>\n",
       "      <th>2</th>\n",
       "      <td>Drama</td>\n",
       "      <td>Titanic</td>\n",
       "      <td>658672302</td>\n",
       "    </tr>\n",
       "    <tr>\n",
       "      <th>3</th>\n",
       "      <td>Action</td>\n",
       "      <td>Jurassic World</td>\n",
       "      <td>652270625</td>\n",
       "    </tr>\n",
       "    <tr>\n",
       "      <th>4</th>\n",
       "      <td>Action</td>\n",
       "      <td>The Avengers</td>\n",
       "      <td>623357910</td>\n",
       "    </tr>\n",
       "  </tbody>\n",
       "</table>\n",
       "</div>"
      ],
      "text/plain": [
       "    genre                          name      gross\n",
       "0  Action  Star Wars: The Force Awakens  936662225\n",
       "1  Action                        Avatar  760507625\n",
       "2   Drama                       Titanic  658672302\n",
       "3  Action                Jurassic World  652270625\n",
       "4  Action                  The Avengers  623357910"
      ]
     },
     "execution_count": 34,
     "metadata": {},
     "output_type": "execute_result"
    }
   ],
   "source": [
    "top_twenty.head()"
   ]
  },
  {
   "cell_type": "code",
   "execution_count": 42,
   "id": "70501f7a",
   "metadata": {},
   "outputs": [],
   "source": [
    "top_twenty_pivot = top_twenty.pivot(index = 'name', columns = 'genre', values = 'gross') #this code allows us to transform a dataframe into a pivot table, which will be ideal to display our results"
   ]
  },
  {
   "cell_type": "code",
   "execution_count": 44,
   "id": "d9a398c0",
   "metadata": {},
   "outputs": [
    {
     "data": {
      "text/plain": [
       "<AxesSubplot:title={'center':'Top 20 Highest Gross Revenue Movies'}, xlabel='Movie name', ylabel='Gross Revenue'>"
      ]
     },
     "execution_count": 44,
     "metadata": {},
     "output_type": "execute_result"
    },
    {
     "data": {
      "image/png": "[encoded data removed]",
      "text/plain": [
       "<Figure size 864x576 with 1 Axes>"
      ]
     },
     "metadata": {
      "needs_background": "light"
     },
     "output_type": "display_data"
    }
   ],
   "source": [
    "top_twenty_order_list = top_twenty['name'].to_list() #converting a column into a list\n",
    "#this will be used to oreder the pivot table by gross revenue\n",
    "top_twenty_pivot = top_twenty_pivot.reindex(top_twenty_order_list) \n",
    "\n",
    "top_twenty_pivot.plot(kind = 'bar', stacked = True, xlabel = 'Movie name', ylabel = 'Gross Revenue', title = 'Top 20 Highest Gross Revenue Movies')\n"
   ]
  }
 ],
 "metadata": {
  "kernelspec": {
   "display_name": "Python 3",
   "language": "python",
   "name": "python3"
  },
  "language_info": {
   "codemirror_mode": {
    "name": "ipython",
    "version": 3
   },
   "file_extension": ".py",
   "mimetype": "text/x-python",
   "name": "python",
   "nbconvert_exporter": "python",
   "pygments_lexer": "ipython3",
   "version": "3.8.8"
  }
 },
 "nbformat": 4,
 "nbformat_minor": 5
}
